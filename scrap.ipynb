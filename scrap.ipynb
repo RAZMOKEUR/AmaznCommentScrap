{
 "cells": [
  {
   "cell_type": "code",
   "execution_count": 48,
   "metadata": {},
   "outputs": [],
   "source": [
    "# import libraries \n",
    "\n",
    "import pandas as pd\n",
    "import requests\n",
    "from bs4 import BeautifulSoup\n",
    "import time\n"
   ]
  },
  {
   "cell_type": "code",
   "execution_count": 65,
   "metadata": {},
   "outputs": [
    {
     "name": "stdout",
     "output_type": "stream",
     "text": [
      "status code : 200\n",
      "['1,0 sur 5\\xa0étoiles', '3,0 sur 5\\xa0étoiles', '5,0 sur 5\\xa0étoiles', '5,0 sur 5\\xa0étoiles', '5,0 sur 5\\xa0étoiles', '2,0 sur 5\\xa0étoiles', '2,0 sur 5\\xa0étoiles', '4,0 sur 5\\xa0étoiles', '5,0 sur 5\\xa0étoiles', '5,0 sur 5\\xa0étoiles', '5,0 sur 5\\xa0étoiles', '5,0 sur 5\\xa0étoiles']\n"
     ]
    }
   ],
   "source": [
    "url = \"https://www.amazon.fr/AmazonBasics-300-sacs-d%C3%A9jections-canines-distributeur/product-reviews/B00NABTC8M/ref=cm_cr_dp_d_show_all_btm?ie=UTF8&reviewerType=all_reviews\"\n",
    "\n",
    "request = requests.get(url)\n",
    "\n",
    "print(\"status code :\" ,request.status_code)\n",
    "\n",
    "soup = BeautifulSoup(request.text, 'html.parser')\n",
    "\n",
    "comments = soup.find_all(id='cm_cr-review_list')\n",
    "\n",
    "d_review_author = []\n",
    "d_review_title = []\n",
    "d_review_text = []\n",
    "d_review_stars = []\n",
    "\n",
    "for review in comments:\n",
    "    review.getText()\n",
    "    review_author = review.findAll('span',\"a-profile-name\")\n",
    "    \n",
    "    for author in author_review:\n",
    "        d_review_author.append(author.text)\n",
    "    \n",
    "    review_title = review.select('a[data-hook=review-title] span')\n",
    "    \n",
    "    for title in review_title:\n",
    "        d_review_title.append(title.text)\n",
    "    \n",
    "    review_text = review.select('span[data-hook=review-body] span')\n",
    "    \n",
    "    for rtext in review_text:\n",
    "        d_review_text.append(rtext.text)\n",
    "    \n",
    "    review_stars = review.findAll('span','a-icon-alt')\n",
    "    \n",
    "    for stars in review_stars:\n",
    "        d_review_stars.append(stars.text)\n",
    "    \n",
    "print(d_review_stars)\n",
    "    \n",
    "    \n",
    "\n",
    "\n",
    "    \n",
    "    \n"
   ]
  }
 ],
 "metadata": {
  "kernelspec": {
   "display_name": "Python 3.8.10 64-bit",
   "language": "python",
   "name": "python3"
  },
  "language_info": {
   "codemirror_mode": {
    "name": "ipython",
    "version": 3
   },
   "file_extension": ".py",
   "mimetype": "text/x-python",
   "name": "python",
   "nbconvert_exporter": "python",
   "pygments_lexer": "ipython3",
   "version": "3.8.10"
  },
  "orig_nbformat": 4,
  "vscode": {
   "interpreter": {
    "hash": "916dbcbb3f70747c44a77c7bcd40155683ae19c65e1c03b4aa3499c5328201f1"
   }
  }
 },
 "nbformat": 4,
 "nbformat_minor": 2
}
